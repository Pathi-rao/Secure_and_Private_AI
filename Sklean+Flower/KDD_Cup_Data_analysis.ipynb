{
 "cells": [
  {
   "cell_type": "markdown",
   "id": "2616c1a4",
   "metadata": {},
   "source": [
    "### Get the data and do some prepocessing"
   ]
  },
  {
   "cell_type": "code",
   "execution_count": 8,
   "id": "df9311f9",
   "metadata": {
    "ExecuteTime": {
     "end_time": "2021-08-26T20:01:58.523040Z",
     "start_time": "2021-08-26T20:01:58.512239Z"
    }
   },
   "outputs": [],
   "source": [
    "import numpy as np\n",
    "import pandas as pd # use version==1.2.5 incase you want to run pandas profiling\n",
    "from sklearn.model_selection import train_test_split\n",
    "from sklearn.preprocessing import LabelEncoder\n",
    "from sklearn.preprocessing import OneHotEncoder\n",
    "from sklearn.preprocessing import StandardScaler\n"
   ]
  },
  {
   "cell_type": "code",
   "execution_count": 9,
   "id": "bffefcca",
   "metadata": {
    "ExecuteTime": {
     "end_time": "2021-08-26T20:01:58.547289Z",
     "start_time": "2021-08-26T20:01:58.527506Z"
    }
   },
   "outputs": [],
   "source": [
    "# Data is available at: https://kdd.ics.uci.edu/databases/kddcup99/kddcup99.html\n",
    "# description of column names at: https://kdd.ics.uci.edu/databases/kddcup99/kddcup.names\n",
    "\n",
    "col_names = ['duration', 'protocol_type', 'service', 'flag', 'src_bytes', 'dst_bytes', 'land',\n",
    "            'wrong_fragment', 'urgent', 'hot', 'num_failed_logins', 'logged_in', 'num_compromised',\n",
    "            'root_shell', 'su_attempted', 'num_root', 'num_file_creations', 'num_shells', 'num_access_files',\n",
    "            'num_outbound_cmds', 'is_host_login', 'is_guest_login', 'count', 'srv_count', 'serror_rate',\n",
    "            'srv_serror_rate', 'rerror_rate', 'srv_rerror_rate', 'same_srv_rate', 'diff_srv_rate',\n",
    "            'srv_diff_host_rate', 'dst_host_count', 'dst_host_srv_count', 'dst_host_same_srv_rate',\n",
    "            'dst_host_diff_srv_rate', 'dst_host_same_src_port_rate', 'dst_host_srv_diff_host_rate',\n",
    "            'dst_host_serror_rate', 'dst_host_srv_serror_rate', 'dst_host_rerror_rate',\n",
    "            'dst_host_srv_rerror_rate']\n",
    "\n",
    "num_col = ['duration', 'src_bytes', 'dst_bytes', 'wrong_fragment', 'urgent', 'hot',\n",
    "                        'num_failed_logins', 'num_compromised', 'root_shell', 'su_attempted', 'num_root',\n",
    "                        'num_file_creations', 'num_shells', 'num_access_files', 'num_outbound_cmds', 'count',\n",
    "                        'srv_count', 'serror_rate', 'srv_serror_rate', 'rerror_rate', 'srv_rerror_rate',\n",
    "                        'same_srv_rate', 'diff_srv_rate', 'srv_diff_host_rate', 'dst_host_count',\n",
    "                        'dst_host_srv_count', 'dst_host_same_srv_rate', 'dst_host_diff_srv_rate',\n",
    "                        'dst_host_same_src_port_rate', 'dst_host_srv_diff_host_rate', 'dst_host_serror_rate',\n",
    "                        'dst_host_srv_serror_rate', 'dst_host_rerror_rate', 'dst_host_srv_rerror_rate']"
   ]
  },
  {
   "cell_type": "code",
   "execution_count": 10,
   "id": "89a63ae5",
   "metadata": {
    "ExecuteTime": {
     "end_time": "2021-08-26T20:02:32.364461Z",
     "start_time": "2021-08-26T20:01:58.551817Z"
    }
   },
   "outputs": [],
   "source": [
    "data_path = \"data/kddcup_data\"\n",
    "\n",
    "df = pd.read_csv(data_path, names=col_names+[\"threat_type\"]) # threat type is the target"
   ]
  },
  {
   "cell_type": "code",
   "execution_count": 11,
   "id": "ae505230",
   "metadata": {
    "ExecuteTime": {
     "end_time": "2021-08-26T20:02:36.857471Z",
     "start_time": "2021-08-26T20:02:32.367730Z"
    }
   },
   "outputs": [],
   "source": [
    "# do some preprocessing\n",
    "# print(' ')\n",
    "df['threat_type'] = df['threat_type'].str.replace('.', '', regex=True)"
   ]
  },
  {
   "cell_type": "code",
   "execution_count": 17,
   "id": "a7749b1f",
   "metadata": {
    "ExecuteTime": {
     "end_time": "2021-08-26T20:08:36.848873Z",
     "start_time": "2021-08-26T20:08:35.531427Z"
    }
   },
   "outputs": [
    {
     "data": {
      "text/plain": [
       "array(['normal', 'buffer_overflow', 'loadmodule', 'perl', 'neptune',\n",
       "       'smurf', 'guess_passwd', 'pod', 'teardrop', 'portsweep', 'ipsweep',\n",
       "       'land', 'ftp_write', 'back', 'imap', 'satan', 'phf', 'nmap',\n",
       "       'multihop', 'warezmaster', 'warezclient', 'spy', 'rootkit'],\n",
       "      dtype=object)"
      ]
     },
     "execution_count": 17,
     "metadata": {},
     "output_type": "execute_result"
    }
   ],
   "source": [
    "df['threat_type'].unique()"
   ]
  },
  {
   "cell_type": "code",
   "execution_count": 18,
   "id": "4261f7bc",
   "metadata": {
    "ExecuteTime": {
     "end_time": "2021-08-26T20:12:17.865712Z",
     "start_time": "2021-08-26T20:12:16.663502Z"
    }
   },
   "outputs": [
    {
     "data": {
      "text/plain": [
       "smurf              2807886\n",
       "neptune            1072017\n",
       "normal              972781\n",
       "satan                15892\n",
       "ipsweep              12481\n",
       "portsweep            10413\n",
       "nmap                  2316\n",
       "back                  2203\n",
       "warezclient           1020\n",
       "teardrop               979\n",
       "pod                    264\n",
       "guess_passwd            53\n",
       "buffer_overflow         30\n",
       "land                    21\n",
       "warezmaster             20\n",
       "imap                    12\n",
       "rootkit                 10\n",
       "loadmodule               9\n",
       "ftp_write                8\n",
       "multihop                 7\n",
       "phf                      4\n",
       "perl                     3\n",
       "spy                      2\n",
       "Name: threat_type, dtype: int64"
      ]
     },
     "execution_count": 18,
     "metadata": {},
     "output_type": "execute_result"
    }
   ],
   "source": [
    "df['threat_type'].value_counts()"
   ]
  },
  {
   "cell_type": "code",
   "execution_count": 27,
   "id": "ea5d9501",
   "metadata": {
    "ExecuteTime": {
     "end_time": "2021-08-26T20:24:45.448579Z",
     "start_time": "2021-08-26T20:24:36.694459Z"
    }
   },
   "outputs": [],
   "source": [
    "indexNames = df[(df['threat_type'] == 'spy') | (df['threat_type'] == 'perl') | (df['threat_type'] == 'phf') \n",
    "               | (df['threat_type'] == 'multihop') | (df['threat_type'] == 'ftp_write') | (df['threat_type'] == 'loadmodule') \n",
    "               | (df['threat_type'] == 'rootkit') | (df['threat_type'] == 'imap')].index\n",
    "df.drop(indexNames , inplace=True)"
   ]
  },
  {
   "cell_type": "code",
   "execution_count": 28,
   "id": "5103457e",
   "metadata": {
    "ExecuteTime": {
     "end_time": "2021-08-26T20:24:47.908687Z",
     "start_time": "2021-08-26T20:24:46.740957Z"
    }
   },
   "outputs": [
    {
     "data": {
      "text/plain": [
       "smurf              2807886\n",
       "neptune            1072017\n",
       "normal              972781\n",
       "satan                15892\n",
       "ipsweep              12481\n",
       "portsweep            10413\n",
       "nmap                  2316\n",
       "back                  2203\n",
       "warezclient           1020\n",
       "teardrop               979\n",
       "pod                    264\n",
       "guess_passwd            53\n",
       "buffer_overflow         30\n",
       "land                    21\n",
       "warezmaster             20\n",
       "Name: threat_type, dtype: int64"
      ]
     },
     "execution_count": 28,
     "metadata": {},
     "output_type": "execute_result"
    }
   ],
   "source": [
    "df['threat_type'].value_counts()"
   ]
  },
  {
   "cell_type": "code",
   "execution_count": 12,
   "id": "c105ce01",
   "metadata": {
    "ExecuteTime": {
     "end_time": "2021-08-26T20:02:44.534971Z",
     "start_time": "2021-08-26T20:02:36.860093Z"
    }
   },
   "outputs": [],
   "source": [
    "# 34 numerical columns are considered for training\n",
    "num_df = df[num_col]\n",
    "\n",
    "# Lets remove the numerical columns with constant value\n",
    "X = num_df.loc[:, (num_df != num_df.iloc[0]).any()].values"
   ]
  },
  {
   "cell_type": "code",
   "execution_count": 13,
   "id": "6383bcf7",
   "metadata": {
    "ExecuteTime": {
     "end_time": "2021-08-26T20:02:48.458783Z",
     "start_time": "2021-08-26T20:02:44.560829Z"
    }
   },
   "outputs": [],
   "source": [
    "# labelencode the target variable\n",
    "threat_types = df[\"threat_type\"].values\n",
    "encoder = LabelEncoder()\n",
    "# encoder = OneHotEncoder()\n",
    "# use LabelEncoder to encode the threat types in numeric values\n",
    "y = encoder.fit_transform(threat_types)\n",
    "# print(' ')\n",
    "# print(\"Shape of target vector is... : \",y.shape)"
   ]
  },
  {
   "cell_type": "code",
   "execution_count": 14,
   "id": "ad5501ff",
   "metadata": {
    "ExecuteTime": {
     "end_time": "2021-08-26T20:03:14.328121Z",
     "start_time": "2021-08-26T20:02:48.460860Z"
    }
   },
   "outputs": [
    {
     "name": "stdout",
     "output_type": "stream",
     "text": [
      "23 22\n"
     ]
    }
   ],
   "source": [
    "X_train, X_test, y_train, y_test = train_test_split( X, y, test_size=0.2, random_state=13, stratify=y)\n",
    "\n",
    "scaler = StandardScaler()  \n",
    "a = scaler.fit(X_train)\n",
    "X_train = a.transform(X_train)\n",
    "X_test = scaler.transform(X_test)\n",
    "\n",
    "# print(y_test)\n",
    "print(len(np.unique(y_train)), len(np.unique(y_test)))\n",
    "# unique, counts = np.unique(y_train, return_counts=True)\n",
    "# unique1, counts1 = np.unique(y_test, return_counts=True)\n",
    "\n",
    "unknwn1 = (np.array(np.unique(y_train, return_counts=True)).T)\n",
    "unknwn2 = (np.array(np.unique(y_test, return_counts=True)).T)\n"
   ]
  },
  {
   "cell_type": "code",
   "execution_count": 15,
   "id": "df83ff58",
   "metadata": {
    "ExecuteTime": {
     "end_time": "2021-08-26T20:03:23.432196Z",
     "start_time": "2021-08-26T20:03:23.399979Z"
    }
   },
   "outputs": [
    {
     "name": "stdout",
     "output_type": "stream",
     "text": [
      "[[      0    1762]\n",
      " [      1      24]\n",
      " [      2       6]\n",
      " [      3      42]\n",
      " [      4      10]\n",
      " [      5    9985]\n",
      " [      6      17]\n",
      " [      7       7]\n",
      " [      8       6]\n",
      " [      9  857614]\n",
      " [     10    1853]\n",
      " [     11  778225]\n",
      " [     12       2]\n",
      " [     13       3]\n",
      " [     14     211]\n",
      " [     15    8330]\n",
      " [     16       8]\n",
      " [     17   12714]\n",
      " [     18 2246308]\n",
      " [     19       2]\n",
      " [     20     783]\n",
      " [     21     816]\n",
      " [     22      16]]\n",
      "[[     0    441]\n",
      " [     1      6]\n",
      " [     2      2]\n",
      " [     3     11]\n",
      " [     4      2]\n",
      " [     5   2496]\n",
      " [     6      4]\n",
      " [     7      2]\n",
      " [     8      1]\n",
      " [     9 214403]\n",
      " [    10    463]\n",
      " [    11 194556]\n",
      " [    12      1]\n",
      " [    13      1]\n",
      " [    14     53]\n",
      " [    15   2083]\n",
      " [    16      2]\n",
      " [    17   3178]\n",
      " [    18 561578]\n",
      " [    20    196]\n",
      " [    21    204]\n",
      " [    22      4]]\n"
     ]
    }
   ],
   "source": [
    "print(unknwn1)\n",
    "print(unknwn2)"
   ]
  },
  {
   "cell_type": "code",
   "execution_count": null,
   "id": "415cec61",
   "metadata": {},
   "outputs": [],
   "source": []
  },
  {
   "cell_type": "code",
   "execution_count": 11,
   "id": "6b5d79df",
   "metadata": {},
   "outputs": [],
   "source": [
    "# Export as a csv\n",
    "\n",
    "#num_df.to_csv('processed_KDD_cup.csv', index=False)"
   ]
  },
  {
   "cell_type": "code",
   "execution_count": null,
   "id": "16007c8f",
   "metadata": {},
   "outputs": [],
   "source": []
  }
 ],
 "metadata": {
  "kernelspec": {
   "display_name": "Python 3",
   "language": "python",
   "name": "python3"
  },
  "language_info": {
   "codemirror_mode": {
    "name": "ipython",
    "version": 3
   },
   "file_extension": ".py",
   "mimetype": "text/x-python",
   "name": "python",
   "nbconvert_exporter": "python",
   "pygments_lexer": "ipython3",
   "version": "3.9.4"
  }
 },
 "nbformat": 4,
 "nbformat_minor": 5
}
