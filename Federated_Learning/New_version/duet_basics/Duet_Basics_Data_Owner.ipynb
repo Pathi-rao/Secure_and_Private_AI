{
 "cells": [
  {
   "cell_type": "markdown",
   "id": "worth-teach",
   "metadata": {},
   "source": [
    "# Part 1: Launch a Duet Server"
   ]
  },
  {
   "cell_type": "code",
   "execution_count": 1,
   "id": "incorporate-empty",
   "metadata": {
    "ExecuteTime": {
     "end_time": "2021-07-30T08:52:28.120565Z",
     "start_time": "2021-07-30T08:52:23.183672Z"
    }
   },
   "outputs": [],
   "source": [
    "import syft as sy"
   ]
  },
  {
   "cell_type": "code",
   "execution_count": 2,
   "id": "packed-german",
   "metadata": {
    "ExecuteTime": {
     "end_time": "2021-07-30T08:53:37.417970Z",
     "start_time": "2021-07-30T08:52:29.060587Z"
    },
    "scrolled": true
   },
   "outputs": [
    {
     "name": "stdout",
     "output_type": "stream",
     "text": [
      "🎤  🎸  ♪♪♪ Starting Duet ♫♫♫  🎻  🎹\n",
      "\n",
      "♫♫♫ >\u001b[93m DISCLAIMER\u001b[0m: \u001b[1mDuet is an experimental feature currently in beta.\n",
      "♫♫♫ > Use at your own risk.\n",
      "\u001b[0m\n",
      "\u001b[1m\n",
      "    > ❤️ \u001b[91mLove\u001b[0m \u001b[92mDuet\u001b[0m? \u001b[93mPlease\u001b[0m \u001b[94mconsider\u001b[0m \u001b[95msupporting\u001b[0m \u001b[91mour\u001b[0m \u001b[93mcommunity!\u001b[0m\n",
      "    > https://github.com/sponsors/OpenMined\u001b[1m\n",
      "\n",
      "♫♫♫ > Punching through firewall to OpenGrid Network Node at:\n",
      "♫♫♫ > http://ec2-18-218-7-180.us-east-2.compute.amazonaws.com:5000\n",
      "♫♫♫ >\n",
      "♫♫♫ > ...waiting for response from OpenGrid Network... \n",
      "♫♫♫ > \u001b[92mDONE!\u001b[0m\n",
      "♫♫♫ > Duet Server ID: \u001b[1m70be7bc791c6763153c11424471b68a5\u001b[0m\n",
      "\n",
      "♫♫♫ > \u001b[95mSTEP 1:\u001b[0m Send the following code to your Duet Partner!\n",
      "\n",
      "import syft as sy\n",
      "duet = sy.duet(\"\u001b[1m70be7bc791c6763153c11424471b68a5\u001b[0m\")\n",
      "\n",
      "♫♫♫ > \u001b[95mSTEP 2:\u001b[0m Ask your partner for their Client ID and enter it below!\n",
      "♫♫♫ > Duet Partner's Client ID: cc42965b892ae8a6b2f9ed28b32068fe\n",
      "\n",
      "♫♫♫ > Connecting...\n",
      "\n",
      "♫♫♫ > \u001b[92mCONNECTED!\u001b[0m\n",
      "\n",
      "♫♫♫ > DUET LIVE STATUS  *  Objects: 1  Requests: 0   Messages: 52  Request Handlers: 1                                                         \r"
     ]
    }
   ],
   "source": [
    "duet = sy.launch_duet()\n",
    "# both data owner and data scientist will be connected to the open grid network"
   ]
  },
  {
   "cell_type": "markdown",
   "id": "saved-dressing",
   "metadata": {},
   "source": [
    "# Part 2: Upload data to Duet Server"
   ]
  },
  {
   "cell_type": "code",
   "execution_count": 3,
   "id": "complicated-lafayette",
   "metadata": {
    "ExecuteTime": {
     "end_time": "2021-07-30T09:54:19.317565Z",
     "start_time": "2021-07-30T09:54:19.311581Z"
    }
   },
   "outputs": [],
   "source": [
    "import torch as th"
   ]
  },
  {
   "cell_type": "code",
   "execution_count": 4,
   "id": "atomic-irrigation",
   "metadata": {
    "ExecuteTime": {
     "end_time": "2021-07-30T09:54:20.453991Z",
     "start_time": "2021-07-30T09:54:20.446428Z"
    }
   },
   "outputs": [],
   "source": [
    "# Data owner has age data of 6 people\n",
    "age_data = th.tensor([25, 32, 49, 65, 88, 22])"
   ]
  },
  {
   "cell_type": "code",
   "execution_count": 5,
   "id": "better-multiple",
   "metadata": {
    "ExecuteTime": {
     "end_time": "2021-07-30T09:54:23.856491Z",
     "start_time": "2021-07-30T09:54:23.844316Z"
    }
   },
   "outputs": [],
   "source": [
    "# Data owner names the data with tag \"ages\"\n",
    "age_data = age_data.tag(\"ages\")"
   ]
  },
  {
   "cell_type": "code",
   "execution_count": 6,
   "id": "centered-snowboard",
   "metadata": {
    "ExecuteTime": {
     "end_time": "2021-07-30T09:54:49.014922Z",
     "start_time": "2021-07-30T09:54:49.005918Z"
    }
   },
   "outputs": [],
   "source": [
    "# Data owner adds a description to the tensor where age data is located\n",
    "age_data = age_data.describe(\"This is a list of ages of 6 people.\")"
   ]
  },
  {
   "cell_type": "code",
   "execution_count": 7,
   "id": "special-martial",
   "metadata": {
    "ExecuteTime": {
     "end_time": "2021-07-30T09:55:19.019476Z",
     "start_time": "2021-07-30T09:55:18.994542Z"
    }
   },
   "outputs": [],
   "source": [
    "# Finally the data owner UPLOADS THE DATA to the Duet server and makes it searchable\n",
    "# by data scientists. NOTE: The data is still on the Data Owners machine and cannot be\n",
    "# viewed or retrieved by any Data Scientists without permission.\n",
    "age_data_pointer = age_data.send(duet, pointable=True)"
   ]
  },
  {
   "cell_type": "code",
   "execution_count": 8,
   "id": "approximate-tracy",
   "metadata": {
    "ExecuteTime": {
     "end_time": "2021-07-30T09:55:36.913554Z",
     "start_time": "2021-07-30T09:55:36.886609Z"
    }
   },
   "outputs": [
    {
     "data": {
      "text/plain": [
       "[<syft.proxy.torch.TensorPointer object at 0x000002CB94306F40>]"
      ]
     },
     "execution_count": 8,
     "metadata": {},
     "output_type": "execute_result"
    }
   ],
   "source": [
    "# Once uploaded, the data owner can see the object stored in the tensor\n",
    "duet.store"
   ]
  },
  {
   "cell_type": "code",
   "execution_count": 9,
   "id": "continuing-jordan",
   "metadata": {
    "ExecuteTime": {
     "end_time": "2021-07-30T09:56:59.783668Z",
     "start_time": "2021-07-30T09:56:59.746258Z"
    },
    "scrolled": true
   },
   "outputs": [
    {
     "data": {
      "text/html": [
       "<div>\n",
       "<style scoped>\n",
       "    .dataframe tbody tr th:only-of-type {\n",
       "        vertical-align: middle;\n",
       "    }\n",
       "\n",
       "    .dataframe tbody tr th {\n",
       "        vertical-align: top;\n",
       "    }\n",
       "\n",
       "    .dataframe thead th {\n",
       "        text-align: right;\n",
       "    }\n",
       "</style>\n",
       "<table border=\"1\" class=\"dataframe\">\n",
       "  <thead>\n",
       "    <tr style=\"text-align: right;\">\n",
       "      <th></th>\n",
       "      <th>ID</th>\n",
       "      <th>Tags</th>\n",
       "      <th>Description</th>\n",
       "      <th>object_type</th>\n",
       "    </tr>\n",
       "  </thead>\n",
       "  <tbody>\n",
       "    <tr>\n",
       "      <th>0</th>\n",
       "      <td>&lt;UID: a4c51d55cb2e494bb92e6be9c7baa6d2&gt;</td>\n",
       "      <td>[ages]</td>\n",
       "      <td>This is a list of ages of 6 people.</td>\n",
       "      <td>&lt;class 'torch.Tensor'&gt;</td>\n",
       "    </tr>\n",
       "  </tbody>\n",
       "</table>\n",
       "</div>"
      ],
      "text/plain": [
       "                                        ID    Tags  \\\n",
       "0  <UID: a4c51d55cb2e494bb92e6be9c7baa6d2>  [ages]   \n",
       "\n",
       "                           Description             object_type  \n",
       "0  This is a list of ages of 6 people.  <class 'torch.Tensor'>  "
      ]
     },
     "execution_count": 9,
     "metadata": {},
     "output_type": "execute_result"
    },
    {
     "name": "stderr",
     "output_type": "stream",
     "text": [
      "[2021-07-30T11:59:39.499757+0200][CRITICAL][logger]][11236] You do not have permission to .get() Object with ID: <UID: ef7258b5feb94ddeae35f88a371e2052>Please submit a request.\n",
      "[2021-07-30T11:59:39.500752+0200][CRITICAL][logger]][11236] You do not have permission to .get() Object with ID: <UID: ef7258b5feb94ddeae35f88a371e2052>Please submit a request.\n"
     ]
    }
   ],
   "source": [
    "# To see it in a human-readable format, data owner can also pretty-print the tensor information\n",
    "duet.store.pandas"
   ]
  },
  {
   "cell_type": "markdown",
   "id": "white-inflation",
   "metadata": {},
   "source": [
    "### <img src=\"https://github.com/OpenMined/design-assets/raw/master/logos/OM/mark-primary-light.png\" alt=\"he-black-box\" width=\"100\"/> Checkpoint 1 : Now STOP and run the Data Scientist notebook until the same checkpoint."
   ]
  },
  {
   "cell_type": "markdown",
   "id": "scheduled-slope",
   "metadata": {},
   "source": [
    "# Part 3: Response to requests coming from Data Scientist"
   ]
  },
  {
   "cell_type": "code",
   "execution_count": 10,
   "id": "amazing-father",
   "metadata": {
    "ExecuteTime": {
     "end_time": "2021-07-30T10:00:34.758396Z",
     "start_time": "2021-07-30T10:00:34.740443Z"
    }
   },
   "outputs": [
    {
     "data": {
      "text/html": [
       "<div>\n",
       "<style scoped>\n",
       "    .dataframe tbody tr th:only-of-type {\n",
       "        vertical-align: middle;\n",
       "    }\n",
       "\n",
       "    .dataframe tbody tr th {\n",
       "        vertical-align: top;\n",
       "    }\n",
       "\n",
       "    .dataframe thead th {\n",
       "        text-align: right;\n",
       "    }\n",
       "</style>\n",
       "<table border=\"1\" class=\"dataframe\">\n",
       "  <thead>\n",
       "    <tr style=\"text-align: right;\">\n",
       "      <th></th>\n",
       "      <th>Requested Object's tags</th>\n",
       "      <th>Reason</th>\n",
       "      <th>Request ID</th>\n",
       "      <th>Requested Object's ID</th>\n",
       "      <th>Requested Object's type</th>\n",
       "    </tr>\n",
       "  </thead>\n",
       "  <tbody>\n",
       "    <tr>\n",
       "      <th>0</th>\n",
       "      <td>[ages, float, mean]</td>\n",
       "      <td>Please approve!</td>\n",
       "      <td>&lt;UID: 2bd36cffd0a64d0e9989cccd158e685a&gt;</td>\n",
       "      <td>&lt;UID: ef7258b5feb94ddeae35f88a371e2052&gt;</td>\n",
       "      <td></td>\n",
       "    </tr>\n",
       "  </tbody>\n",
       "</table>\n",
       "</div>"
      ],
      "text/plain": [
       "  Requested Object's tags           Reason  \\\n",
       "0     [ages, float, mean]  Please approve!   \n",
       "\n",
       "                                Request ID  \\\n",
       "0  <UID: 2bd36cffd0a64d0e9989cccd158e685a>   \n",
       "\n",
       "                     Requested Object's ID Requested Object's type  \n",
       "0  <UID: ef7258b5feb94ddeae35f88a371e2052>                          "
      ]
     },
     "execution_count": 10,
     "metadata": {},
     "output_type": "execute_result"
    }
   ],
   "source": [
    "# To check if there is a request from the Data Scientist, the data owner runs this command occasionally\n",
    "# or when there is a notification of new request in the DUET LIVE STATUS\n",
    "duet.requests.pandas"
   ]
  },
  {
   "cell_type": "code",
   "execution_count": 11,
   "id": "operational-photograph",
   "metadata": {
    "ExecuteTime": {
     "end_time": "2021-07-30T10:01:25.784754Z",
     "start_time": "2021-07-30T10:01:25.775763Z"
    }
   },
   "outputs": [
    {
     "data": {
      "text/plain": [
       "'Please approve!'"
      ]
     },
     "execution_count": 11,
     "metadata": {},
     "output_type": "execute_result"
    }
   ],
   "source": [
    "# There's a new request! Let's check what it says.\n",
    "duet.requests[0].request_description"
   ]
  },
  {
   "cell_type": "code",
   "execution_count": 12,
   "id": "viral-fancy",
   "metadata": {
    "ExecuteTime": {
     "end_time": "2021-07-30T10:01:41.583857Z",
     "start_time": "2021-07-30T10:01:41.573884Z"
    }
   },
   "outputs": [],
   "source": [
    "# Doesn't look like a convincing request :( Have to deny it sorry!\n",
    "duet.requests[0].deny()"
   ]
  },
  {
   "cell_type": "code",
   "execution_count": 13,
   "id": "running-league",
   "metadata": {
    "ExecuteTime": {
     "end_time": "2021-07-30T10:01:47.103226Z",
     "start_time": "2021-07-30T10:01:47.087306Z"
    }
   },
   "outputs": [
    {
     "data": {
      "text/html": [
       "<div>\n",
       "<style scoped>\n",
       "    .dataframe tbody tr th:only-of-type {\n",
       "        vertical-align: middle;\n",
       "    }\n",
       "\n",
       "    .dataframe tbody tr th {\n",
       "        vertical-align: top;\n",
       "    }\n",
       "\n",
       "    .dataframe thead th {\n",
       "        text-align: right;\n",
       "    }\n",
       "</style>\n",
       "<table border=\"1\" class=\"dataframe\">\n",
       "  <thead>\n",
       "    <tr style=\"text-align: right;\">\n",
       "      <th></th>\n",
       "    </tr>\n",
       "  </thead>\n",
       "  <tbody>\n",
       "  </tbody>\n",
       "</table>\n",
       "</div>"
      ],
      "text/plain": [
       "Empty DataFrame\n",
       "Columns: []\n",
       "Index: []"
      ]
     },
     "execution_count": 13,
     "metadata": {},
     "output_type": "execute_result"
    },
    {
     "name": "stderr",
     "output_type": "stream",
     "text": [
      "[2021-07-30T12:02:14.033523+0200][CRITICAL][logger]][11236] You do not have permission to .get() Object with ID: <UID: ef7258b5feb94ddeae35f88a371e2052>Please submit a request.\n",
      "[2021-07-30T12:02:14.034477+0200][CRITICAL][logger]][11236] You do not have permission to .get() Object with ID: <UID: ef7258b5feb94ddeae35f88a371e2052>Please submit a request.\n",
      "[2021-07-30T12:02:47.495022+0200][CRITICAL][logger]][11236] You do not have permission to .get() Object with ID: <UID: ef7258b5feb94ddeae35f88a371e2052>Please submit a request.\n",
      "[2021-07-30T12:02:47.495999+0200][CRITICAL][logger]][11236] You do not have permission to .get() Object with ID: <UID: ef7258b5feb94ddeae35f88a371e2052>Please submit a request.\n"
     ]
    }
   ],
   "source": [
    "# No more request\n",
    "duet.requests.pandas"
   ]
  },
  {
   "cell_type": "markdown",
   "id": "clinical-analyst",
   "metadata": {},
   "source": [
    "### <img src=\"https://github.com/OpenMined/design-assets/raw/master/logos/OM/mark-primary-light.png\" alt=\"he-black-box\" width=\"100\"/> Checkpoint 2 : Now STOP and run the Data Scientist notebook until the same checkpoint."
   ]
  },
  {
   "cell_type": "code",
   "execution_count": 14,
   "id": "magnetic-vinyl",
   "metadata": {
    "ExecuteTime": {
     "end_time": "2021-07-30T10:03:27.374953Z",
     "start_time": "2021-07-30T10:03:27.358997Z"
    }
   },
   "outputs": [
    {
     "data": {
      "text/html": [
       "<div>\n",
       "<style scoped>\n",
       "    .dataframe tbody tr th:only-of-type {\n",
       "        vertical-align: middle;\n",
       "    }\n",
       "\n",
       "    .dataframe tbody tr th {\n",
       "        vertical-align: top;\n",
       "    }\n",
       "\n",
       "    .dataframe thead th {\n",
       "        text-align: right;\n",
       "    }\n",
       "</style>\n",
       "<table border=\"1\" class=\"dataframe\">\n",
       "  <thead>\n",
       "    <tr style=\"text-align: right;\">\n",
       "      <th></th>\n",
       "      <th>Requested Object's tags</th>\n",
       "      <th>Reason</th>\n",
       "      <th>Request ID</th>\n",
       "      <th>Requested Object's ID</th>\n",
       "      <th>Requested Object's type</th>\n",
       "    </tr>\n",
       "  </thead>\n",
       "  <tbody>\n",
       "    <tr>\n",
       "      <th>0</th>\n",
       "      <td>[ages, float, mean]</td>\n",
       "      <td>I am a data scientist and I need to know the a...</td>\n",
       "      <td>&lt;UID: cb4e11de81d54c639eeea58d4c74d989&gt;</td>\n",
       "      <td>&lt;UID: ef7258b5feb94ddeae35f88a371e2052&gt;</td>\n",
       "      <td></td>\n",
       "    </tr>\n",
       "  </tbody>\n",
       "</table>\n",
       "</div>"
      ],
      "text/plain": [
       "  Requested Object's tags                                             Reason  \\\n",
       "0     [ages, float, mean]  I am a data scientist and I need to know the a...   \n",
       "\n",
       "                                Request ID  \\\n",
       "0  <UID: cb4e11de81d54c639eeea58d4c74d989>   \n",
       "\n",
       "                     Requested Object's ID Requested Object's type  \n",
       "0  <UID: ef7258b5feb94ddeae35f88a371e2052>                          "
      ]
     },
     "execution_count": 14,
     "metadata": {},
     "output_type": "execute_result"
    }
   ],
   "source": [
    "# Oh there's a new request!\n",
    "duet.requests.pandas"
   ]
  },
  {
   "cell_type": "code",
   "execution_count": 15,
   "id": "periodic-seating",
   "metadata": {
    "ExecuteTime": {
     "end_time": "2021-07-30T10:03:30.893864Z",
     "start_time": "2021-07-30T10:03:30.873944Z"
    }
   },
   "outputs": [
    {
     "data": {
      "text/plain": [
       "'I am a data scientist and I need to know the average age for my analysis.'"
      ]
     },
     "execution_count": 15,
     "metadata": {},
     "output_type": "execute_result"
    }
   ],
   "source": [
    "# Let's check what it says.\n",
    "duet.requests[0].request_description"
   ]
  },
  {
   "cell_type": "code",
   "execution_count": 16,
   "id": "australian-lease",
   "metadata": {
    "ExecuteTime": {
     "end_time": "2021-07-30T10:03:34.962426Z",
     "start_time": "2021-07-30T10:03:34.951456Z"
    },
    "scrolled": true
   },
   "outputs": [],
   "source": [
    "# The request looks reasonable. Should be accepted :)\n",
    "duet.requests[0].accept()"
   ]
  },
  {
   "cell_type": "markdown",
   "id": "confident-poker",
   "metadata": {},
   "source": [
    "### Add request handlers"
   ]
  },
  {
   "cell_type": "code",
   "execution_count": 18,
   "id": "loose-fifth",
   "metadata": {
    "ExecuteTime": {
     "end_time": "2021-07-30T10:08:46.843908Z",
     "start_time": "2021-07-30T10:08:46.838885Z"
    }
   },
   "outputs": [],
   "source": [
    "# You can automatically accept or deny requests, which is great for testing.\n",
    "# We have more advanced handlers coming soon.\n",
    "\n",
    "duet.requests.add_handler(action=\"accept\")"
   ]
  },
  {
   "cell_type": "markdown",
   "id": "attractive-modem",
   "metadata": {},
   "source": [
    "### <img src=\"https://github.com/OpenMined/design-assets/raw/master/logos/OM/mark-primary-light.png\" alt=\"he-black-box\" width=\"100\"/> Checkpoint 3 : Well done!"
   ]
  },
  {
   "cell_type": "code",
   "execution_count": null,
   "id": "urban-effects",
   "metadata": {},
   "outputs": [],
   "source": []
  }
 ],
 "metadata": {
  "kernelspec": {
   "display_name": "Python 3 (ipykernel)",
   "language": "python",
   "name": "python3"
  },
  "language_info": {
   "codemirror_mode": {
    "name": "ipython",
    "version": 3
   },
   "file_extension": ".py",
   "mimetype": "text/x-python",
   "name": "python",
   "nbconvert_exporter": "python",
   "pygments_lexer": "ipython3",
   "version": "3.9.1"
  }
 },
 "nbformat": 4,
 "nbformat_minor": 5
}
