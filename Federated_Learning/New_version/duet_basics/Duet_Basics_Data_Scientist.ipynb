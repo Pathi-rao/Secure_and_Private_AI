{
 "cells": [
  {
   "cell_type": "markdown",
   "id": "included-evidence",
   "metadata": {},
   "source": [
    "# Part 1: Join the Duet Server the Data Owner connected to"
   ]
  },
  {
   "cell_type": "code",
   "execution_count": 2,
   "id": "quality-visiting",
   "metadata": {
    "ExecuteTime": {
     "end_time": "2021-07-30T08:52:55.951197Z",
     "start_time": "2021-07-30T08:52:50.983669Z"
    }
   },
   "outputs": [],
   "source": [
    "import syft as sy"
   ]
  },
  {
   "cell_type": "code",
   "execution_count": 3,
   "id": "retired-profession",
   "metadata": {
    "ExecuteTime": {
     "end_time": "2021-07-30T08:53:35.421794Z",
     "start_time": "2021-07-30T08:52:56.904556Z"
    },
    "scrolled": true
   },
   "outputs": [
    {
     "name": "stdout",
     "output_type": "stream",
     "text": [
      "🎤  🎸  ♪♪♪ Joining Duet ♫♫♫  🎻  🎹\n",
      "\n",
      "♫♫♫ >\u001b[93m DISCLAIMER\u001b[0m: \u001b[1mDuet is an experimental feature currently in beta.\n",
      "♫♫♫ > Use at your own risk.\n",
      "\u001b[0m\n",
      "\u001b[1m\n",
      "    > ❤️ \u001b[91mLove\u001b[0m \u001b[92mDuet\u001b[0m? \u001b[93mPlease\u001b[0m \u001b[94mconsider\u001b[0m \u001b[95msupporting\u001b[0m \u001b[91mour\u001b[0m \u001b[93mcommunity!\u001b[0m\n",
      "    > https://github.com/sponsors/OpenMined\u001b[1m\n",
      "\n",
      "♫♫♫ > Punching through firewall to OpenGrid Network Node at:\n",
      "♫♫♫ > http://ec2-18-218-7-180.us-east-2.compute.amazonaws.com:5000\n",
      "♫♫♫ >\n",
      "♫♫♫ > ...waiting for response from OpenGrid Network... \n",
      "♫♫♫ > \u001b[92mDONE!\u001b[0m\n",
      "\n",
      "♫♫♫ > \u001b[95mSTEP 1:\u001b[0m Send the following Duet Client ID to your duet partner!\n",
      "♫♫♫ > Duet Client ID: \u001b[1mcc42965b892ae8a6b2f9ed28b32068fe\u001b[0m\n",
      "\n",
      "♫♫♫ > ...waiting for partner to connect...\n",
      "\n",
      "♫♫♫ > \u001b[92mCONNECTED!\u001b[0m\n"
     ]
    }
   ],
   "source": [
    "# duet = sy.join_duet('4814df40925c14ae8f950342e3e8d776')\n",
    "duet = sy.duet(\"70be7bc791c6763153c11424471b68a5\")\n"
   ]
  },
  {
   "cell_type": "markdown",
   "id": "strong-burner",
   "metadata": {},
   "source": [
    "### <img src=\"https://github.com/OpenMined/design-assets/raw/master/logos/OM/mark-primary-light.png\" alt=\"he-black-box\" width=\"100\"/> Checkpoint 0 : Now STOP and run the Data Owner notebook until Checkpoint 1."
   ]
  },
  {
   "cell_type": "markdown",
   "id": "worthy-server",
   "metadata": {},
   "source": [
    "# Part 2: Search for Available Data"
   ]
  },
  {
   "cell_type": "code",
   "execution_count": 4,
   "id": "aquatic-teens",
   "metadata": {
    "ExecuteTime": {
     "end_time": "2021-07-30T09:57:23.509382Z",
     "start_time": "2021-07-30T09:57:23.476585Z"
    }
   },
   "outputs": [
    {
     "data": {
      "text/html": [
       "<div>\n",
       "<style scoped>\n",
       "    .dataframe tbody tr th:only-of-type {\n",
       "        vertical-align: middle;\n",
       "    }\n",
       "\n",
       "    .dataframe tbody tr th {\n",
       "        vertical-align: top;\n",
       "    }\n",
       "\n",
       "    .dataframe thead th {\n",
       "        text-align: right;\n",
       "    }\n",
       "</style>\n",
       "<table border=\"1\" class=\"dataframe\">\n",
       "  <thead>\n",
       "    <tr style=\"text-align: right;\">\n",
       "      <th></th>\n",
       "      <th>ID</th>\n",
       "      <th>Tags</th>\n",
       "      <th>Description</th>\n",
       "      <th>object_type</th>\n",
       "    </tr>\n",
       "  </thead>\n",
       "  <tbody>\n",
       "    <tr>\n",
       "      <th>0</th>\n",
       "      <td>&lt;UID: a4c51d55cb2e494bb92e6be9c7baa6d2&gt;</td>\n",
       "      <td>[ages]</td>\n",
       "      <td>This is a list of ages of 6 people.</td>\n",
       "      <td>&lt;class 'torch.Tensor'&gt;</td>\n",
       "    </tr>\n",
       "  </tbody>\n",
       "</table>\n",
       "</div>"
      ],
      "text/plain": [
       "                                        ID    Tags  \\\n",
       "0  <UID: a4c51d55cb2e494bb92e6be9c7baa6d2>  [ages]   \n",
       "\n",
       "                           Description             object_type  \n",
       "0  This is a list of ages of 6 people.  <class 'torch.Tensor'>  "
      ]
     },
     "execution_count": 4,
     "metadata": {},
     "output_type": "execute_result"
    }
   ],
   "source": [
    "# The data scientist can check the list of searchable data in Data Owner's duet store\n",
    "duet.store.pandas"
   ]
  },
  {
   "cell_type": "code",
   "execution_count": 5,
   "id": "paperback-priest",
   "metadata": {
    "ExecuteTime": {
     "end_time": "2021-07-30T09:58:16.216064Z",
     "start_time": "2021-07-30T09:58:16.197111Z"
    }
   },
   "outputs": [
    {
     "name": "stdout",
     "output_type": "stream",
     "text": [
      "<syft.proxy.torch.TensorPointer object at 0x0000023C2EAEE220>\n"
     ]
    }
   ],
   "source": [
    "# Data Scientist likes the age data. (S)He needs a pointer to it.\n",
    "\n",
    "data_ptr = duet.store[0] \n",
    "# data_ptr = duet.store['ages']\n",
    "\n",
    "# data_ptr is a reference to the age dataset remotely available on data owner's server\n",
    "print(data_ptr)"
   ]
  },
  {
   "cell_type": "markdown",
   "id": "prostate-contamination",
   "metadata": {},
   "source": [
    "# Part 3: Perform some basic analysis on the data\n",
    "Now the data scientist can perform analysis on the data that is in the Data Owner's duet server, without the owner having to share his/her data."
   ]
  },
  {
   "cell_type": "markdown",
   "id": "dimensional-missile",
   "metadata": {},
   "source": [
    "### Get average age"
   ]
  },
  {
   "cell_type": "code",
   "execution_count": 6,
   "id": "blocked-jersey",
   "metadata": {
    "ExecuteTime": {
     "end_time": "2021-07-30T09:59:00.596237Z",
     "start_time": "2021-07-30T09:59:00.584269Z"
    }
   },
   "outputs": [],
   "source": [
    "average_age = data_ptr.float().mean()"
   ]
  },
  {
   "cell_type": "code",
   "execution_count": 7,
   "id": "weekly-documentation",
   "metadata": {
    "ExecuteTime": {
     "end_time": "2021-07-30T09:59:39.520696Z",
     "start_time": "2021-07-30T09:59:39.489908Z"
    },
    "scrolled": true
   },
   "outputs": [
    {
     "name": "stderr",
     "output_type": "stream",
     "text": [
      "[2021-07-30T11:59:39.505737+0200][CRITICAL][logger]][7024] You do not have permission to .get() Object with ID: <UID: ef7258b5feb94ddeae35f88a371e2052>Please submit a request.\n"
     ]
    },
    {
     "name": "stdout",
     "output_type": "stream",
     "text": [
      "You do not have permission to .get() Object with ID: <UID: ef7258b5feb94ddeae35f88a371e2052>Please submit a request.\n"
     ]
    }
   ],
   "source": [
    "# Now the Data Scientist wants to download the result.\n",
    "\n",
    "try:\n",
    "    average_age.get()\n",
    "except Exception as e:\n",
    "    print(e)"
   ]
  },
  {
   "cell_type": "code",
   "execution_count": 8,
   "id": "mature-reaction",
   "metadata": {
    "ExecuteTime": {
     "end_time": "2021-07-30T09:59:44.166766Z",
     "start_time": "2021-07-30T09:59:44.041546Z"
    }
   },
   "outputs": [],
   "source": [
    "# Looks like the Data Scientist does not have permission to download this result! He/she needs\n",
    "# to make a request to the Data Owner.\n",
    "\n",
    "average_age.request(reason=\"Please approve!\")"
   ]
  },
  {
   "cell_type": "markdown",
   "id": "caroline-cologne",
   "metadata": {},
   "source": [
    "### <img src=\"https://github.com/OpenMined/design-assets/raw/master/logos/OM/mark-primary-light.png\" alt=\"he-black-box\" width=\"100\"/> Checkpoint 1 : Now STOP and run the Data Owner notebook until Checkpoint 2."
   ]
  },
  {
   "cell_type": "code",
   "execution_count": 10,
   "id": "whole-montreal",
   "metadata": {
    "ExecuteTime": {
     "end_time": "2021-07-30T10:02:47.505974Z",
     "start_time": "2021-07-30T10:02:47.491012Z"
    },
    "scrolled": true
   },
   "outputs": [
    {
     "name": "stderr",
     "output_type": "stream",
     "text": [
      "[2021-07-30T12:02:47.498991+0200][CRITICAL][logger]][7024] You do not have permission to .get() Object with ID: <UID: ef7258b5feb94ddeae35f88a371e2052>Please submit a request.\n"
     ]
    },
    {
     "name": "stdout",
     "output_type": "stream",
     "text": [
      "You do not have permission to .get() Object with ID: <UID: ef7258b5feb94ddeae35f88a371e2052>Please submit a request.\n"
     ]
    }
   ],
   "source": [
    "try:\n",
    "    average_age.get()\n",
    "except Exception as e:\n",
    "    print(e)"
   ]
  },
  {
   "cell_type": "code",
   "execution_count": 11,
   "id": "clean-opposition",
   "metadata": {
    "ExecuteTime": {
     "end_time": "2021-07-30T10:02:52.585915Z",
     "start_time": "2021-07-30T10:02:52.453307Z"
    }
   },
   "outputs": [],
   "source": [
    "average_age.request(\n",
    "    reason=\"I am a data scientist and I need to know the average age for my analysis.\"\n",
    ")"
   ]
  },
  {
   "cell_type": "code",
   "execution_count": 12,
   "id": "impaired-premiere",
   "metadata": {
    "ExecuteTime": {
     "end_time": "2021-07-30T10:02:55.952225Z",
     "start_time": "2021-07-30T10:02:55.934274Z"
    }
   },
   "outputs": [
    {
     "data": {
      "text/html": [
       "<div>\n",
       "<style scoped>\n",
       "    .dataframe tbody tr th:only-of-type {\n",
       "        vertical-align: middle;\n",
       "    }\n",
       "\n",
       "    .dataframe tbody tr th {\n",
       "        vertical-align: top;\n",
       "    }\n",
       "\n",
       "    .dataframe thead th {\n",
       "        text-align: right;\n",
       "    }\n",
       "</style>\n",
       "<table border=\"1\" class=\"dataframe\">\n",
       "  <thead>\n",
       "    <tr style=\"text-align: right;\">\n",
       "      <th></th>\n",
       "      <th>Requested Object's tags</th>\n",
       "      <th>Reason</th>\n",
       "      <th>Request ID</th>\n",
       "      <th>Requested Object's ID</th>\n",
       "      <th>Requested Object's type</th>\n",
       "    </tr>\n",
       "  </thead>\n",
       "  <tbody>\n",
       "    <tr>\n",
       "      <th>0</th>\n",
       "      <td>[ages, float, mean]</td>\n",
       "      <td>I am a data scientist and I need to know the a...</td>\n",
       "      <td>&lt;UID: cb4e11de81d54c639eeea58d4c74d989&gt;</td>\n",
       "      <td>&lt;UID: ef7258b5feb94ddeae35f88a371e2052&gt;</td>\n",
       "      <td></td>\n",
       "    </tr>\n",
       "  </tbody>\n",
       "</table>\n",
       "</div>"
      ],
      "text/plain": [
       "  Requested Object's tags                                             Reason  \\\n",
       "0     [ages, float, mean]  I am a data scientist and I need to know the a...   \n",
       "\n",
       "                                Request ID  \\\n",
       "0  <UID: cb4e11de81d54c639eeea58d4c74d989>   \n",
       "\n",
       "                     Requested Object's ID Requested Object's type  \n",
       "0  <UID: ef7258b5feb94ddeae35f88a371e2052>                          "
      ]
     },
     "execution_count": 12,
     "metadata": {},
     "output_type": "execute_result"
    }
   ],
   "source": [
    "duet.requests.pandas"
   ]
  },
  {
   "cell_type": "markdown",
   "id": "practical-yacht",
   "metadata": {},
   "source": [
    "### <img src=\"https://github.com/OpenMined/design-assets/raw/master/logos/OM/mark-primary-light.png\" alt=\"he-black-box\" width=\"100\"/> Checkpoint 2 : Now STOP and run the Data Owner notebook until the next checkpoint."
   ]
  },
  {
   "cell_type": "code",
   "execution_count": 13,
   "id": "arabic-dayton",
   "metadata": {
    "ExecuteTime": {
     "end_time": "2021-07-30T10:04:02.526406Z",
     "start_time": "2021-07-30T10:04:02.502468Z"
    }
   },
   "outputs": [
    {
     "name": "stdout",
     "output_type": "stream",
     "text": [
      "tensor(46.8333)\n"
     ]
    }
   ],
   "source": [
    "# Once the request is approved - the data scientist can download the result!\n",
    "avg = average_age.get()\n",
    "print(avg)"
   ]
  },
  {
   "cell_type": "markdown",
   "id": "metropolitan-shannon",
   "metadata": {},
   "source": [
    "### Get min and max age"
   ]
  },
  {
   "cell_type": "code",
   "execution_count": null,
   "id": "demonstrated-palmer",
   "metadata": {
    "ExecuteTime": {
     "end_time": "2021-07-30T10:04:44.008390Z",
     "start_time": "2021-07-30T10:04:44.001409Z"
    }
   },
   "outputs": [],
   "source": [
    "duet.torch # type of operations that we can do using duet.\n",
    "# it will be same as torch as duet is built on top of torch"
   ]
  },
  {
   "cell_type": "code",
   "execution_count": 15,
   "id": "assumed-roberts",
   "metadata": {
    "ExecuteTime": {
     "end_time": "2021-07-30T10:06:21.953338Z",
     "start_time": "2021-07-30T10:06:21.942365Z"
    }
   },
   "outputs": [],
   "source": [
    "max_age_ptr = data_ptr.float().amax()\n",
    "min_age_ptr = data_ptr.float().amin()"
   ]
  },
  {
   "cell_type": "code",
   "execution_count": 17,
   "id": "criminal-copying",
   "metadata": {
    "ExecuteTime": {
     "end_time": "2021-07-30T10:09:11.646254Z",
     "start_time": "2021-07-30T10:09:11.500838Z"
    }
   },
   "outputs": [
    {
     "name": "stdout",
     "output_type": "stream",
     "text": [
      "tensor(88.)\n"
     ]
    }
   ],
   "source": [
    "max_age_result = max_age_ptr.get(\n",
    "    request_block=True,\n",
    "    reason=\"download the maximum age\",\n",
    "    timeout_secs=10,\n",
    ")\n",
    "\n",
    "print(max_age_result)"
   ]
  },
  {
   "cell_type": "code",
   "execution_count": 18,
   "id": "selected-piece",
   "metadata": {
    "ExecuteTime": {
     "end_time": "2021-07-30T10:09:31.520061Z",
     "start_time": "2021-07-30T10:09:31.367113Z"
    }
   },
   "outputs": [
    {
     "name": "stdout",
     "output_type": "stream",
     "text": [
      "tensor(22.)\n"
     ]
    }
   ],
   "source": [
    "min_age_result = min_age_ptr.get(\n",
    "    request_block=True,\n",
    "    reason=\"download the minimum age\",\n",
    "    timeout_secs=10,\n",
    ")\n",
    "\n",
    "print(min_age_result)"
   ]
  },
  {
   "cell_type": "markdown",
   "id": "incorporated-tower",
   "metadata": {},
   "source": [
    "## Let's cheat!"
   ]
  },
  {
   "cell_type": "code",
   "execution_count": 19,
   "id": "realistic-genre",
   "metadata": {
    "ExecuteTime": {
     "end_time": "2021-07-30T10:11:42.140853Z",
     "start_time": "2021-07-30T10:11:42.006116Z"
    },
    "scrolled": true
   },
   "outputs": [
    {
     "name": "stdout",
     "output_type": "stream",
     "text": [
      "tensor([25, 32, 49, 65, 88, 22])\n"
     ]
    }
   ],
   "source": [
    "age_data = data_ptr.get(request_block=True, delete_obj=False)\n",
    "\n",
    "print(age_data)"
   ]
  },
  {
   "cell_type": "markdown",
   "id": "raised-adult",
   "metadata": {},
   "source": [
    "Please note in the later releases there will be features for the verification of the requests made by data scientists so that they cannot be exploited in anyway. In later courses different techniques for making this whole process more robust will be covered. So stay tuned!\n",
    "\n",
    "For this course, it is a great way for you to debug your codes and sanity check!"
   ]
  },
  {
   "cell_type": "code",
   "execution_count": null,
   "id": "ancient-identification",
   "metadata": {},
   "outputs": [],
   "source": []
  },
  {
   "cell_type": "code",
   "execution_count": null,
   "id": "inappropriate-whole",
   "metadata": {},
   "outputs": [],
   "source": []
  },
  {
   "cell_type": "markdown",
   "id": "accredited-grammar",
   "metadata": {},
   "source": [
    "### <img src=\"https://github.com/OpenMined/design-assets/raw/master/logos/OM/mark-primary-light.png\" alt=\"he-black-box\" width=\"100\"/> Checkpoint 3 : Well done!"
   ]
  },
  {
   "cell_type": "code",
   "execution_count": null,
   "id": "million-gallery",
   "metadata": {},
   "outputs": [],
   "source": []
  }
 ],
 "metadata": {
  "kernelspec": {
   "display_name": "Python 3 (ipykernel)",
   "language": "python",
   "name": "python3"
  },
  "language_info": {
   "codemirror_mode": {
    "name": "ipython",
    "version": 3
   },
   "file_extension": ".py",
   "mimetype": "text/x-python",
   "name": "python",
   "nbconvert_exporter": "python",
   "pygments_lexer": "ipython3",
   "version": "3.9.1"
  }
 },
 "nbformat": 4,
 "nbformat_minor": 5
}
