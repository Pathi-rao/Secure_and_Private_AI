{
 "cells": [
  {
   "cell_type": "code",
   "execution_count": 1,
   "id": "manual-curve",
   "metadata": {
    "ExecuteTime": {
     "end_time": "2021-07-30T10:18:12.820094Z",
     "start_time": "2021-07-30T10:18:10.659498Z"
    }
   },
   "outputs": [],
   "source": [
    "import syft as sy"
   ]
  },
  {
   "cell_type": "markdown",
   "id": "short-proposition",
   "metadata": {},
   "source": [
    "# Part 1: Launch a Duet Server"
   ]
  },
  {
   "cell_type": "code",
   "execution_count": 2,
   "id": "mighty-stephen",
   "metadata": {
    "ExecuteTime": {
     "end_time": "2021-07-30T10:18:34.429709Z",
     "start_time": "2021-07-30T10:18:15.310971Z"
    },
    "scrolled": true
   },
   "outputs": [
    {
     "name": "stdout",
     "output_type": "stream",
     "text": [
      "🎤  🎸  ♪♪♪ Starting Duet ♫♫♫  🎻  🎹\n",
      "\n",
      "♫♫♫ >\u001b[93m DISCLAIMER\u001b[0m: \u001b[1mDuet is an experimental feature currently in beta.\n",
      "♫♫♫ > Use at your own risk.\n",
      "\u001b[0m\n",
      "\u001b[1m\n",
      "    > ❤️ \u001b[91mLove\u001b[0m \u001b[92mDuet\u001b[0m? \u001b[93mPlease\u001b[0m \u001b[94mconsider\u001b[0m \u001b[95msupporting\u001b[0m \u001b[91mour\u001b[0m \u001b[93mcommunity!\u001b[0m\n",
      "    > https://github.com/sponsors/OpenMined\u001b[1m\n",
      "\n",
      "♫♫♫ > Punching through firewall to OpenGrid Network Node at:\n",
      "♫♫♫ > http://ec2-18-218-7-180.us-east-2.compute.amazonaws.com:5000\n",
      "♫♫♫ >\n",
      "♫♫♫ > ...waiting for response from OpenGrid Network... \n",
      "♫♫♫ > \u001b[92mDONE!\u001b[0m\n",
      "\n",
      "♫♫♫ > \u001b[95mSTEP 1:\u001b[0m Send the following code to your Duet Partner!\n",
      "\n",
      "import syft as sy\n",
      "duet = sy.join_duet(loopback=True)\n",
      "\n",
      "♫♫♫ > Connecting...\n",
      "\n",
      "♫♫♫ > \u001b[92mCONNECTED!\u001b[0m\n",
      "\n",
      "♫♫♫ > DUET LIVE STATUS  -  Objects: 0  Requests: 0   Messages: 0  Request Handlers: 0                                \r"
     ]
    }
   ],
   "source": [
    "duet = sy.launch_duet(loopback=True)"
   ]
  },
  {
   "cell_type": "markdown",
   "id": "german-salmon",
   "metadata": {},
   "source": [
    "# Part 2: Upload data to Duet Server"
   ]
  },
  {
   "cell_type": "code",
   "execution_count": null,
   "id": "according-marker",
   "metadata": {},
   "outputs": [],
   "source": [
    "import torch as th\n",
    "\n",
    "# Data owner has HEIGHTS (cm) data of 6 people - GROUP A\n",
    "height_data = th.tensor([157.48, 147.32, 149.86, 177.8, 170.18, 182.88])\n",
    "\n",
    "# Data owner names the data with tag \"HEIGHTS\"\n",
    "height_data = height_data.tag(\"HEIGHTS of GROUP A\")\n",
    "\n",
    "# Data owner adds a description to the tensor where height data is located\n",
    "height_data = height_data.describe(\n",
    "    \"This is a list of heights (cm) of GROUP A - 6 people.\"\n",
    ")\n",
    "\n",
    "# Finally the data owner UPLOADS THE DATA to the Duet server and makes it searchable\n",
    "# by data scientists.\n",
    "height_data_pointer = height_data.send(duet, searchable=True)"
   ]
  },
  {
   "cell_type": "code",
   "execution_count": null,
   "id": "representative-kernel",
   "metadata": {},
   "outputs": [],
   "source": [
    "# Data owner also has WEIGHTS (kg) data of 6 people - GROUP A\n",
    "weight_data = th.tensor([57, 61, 74, 76, 78, 67])\n",
    "\n",
    "# Data owner names the data with tag \"WEIGHTS\"\n",
    "weight_data = weight_data.tag(\"WEIGHTS of GROUP A\")\n",
    "\n",
    "# Data owner adds a description to the tensor where weights data is located\n",
    "weight_data = weight_data.describe(\n",
    "    \"This is a list of body weights (kg) of GROUP A - 6 people.\"\n",
    ")\n",
    "\n",
    "# Finally the data owner UPLOADS THE DATA to the Duet server and makes it searchable\n",
    "# by data scientists.\n",
    "weight_data_pointer = weight_data.send(duet, searchable=True)"
   ]
  },
  {
   "cell_type": "code",
   "execution_count": null,
   "id": "improving-portrait",
   "metadata": {},
   "outputs": [],
   "source": [
    "duet.store.pandas"
   ]
  },
  {
   "cell_type": "code",
   "execution_count": null,
   "id": "challenging-determination",
   "metadata": {},
   "outputs": [],
   "source": [
    "assert len(duet.store) == 2"
   ]
  },
  {
   "cell_type": "markdown",
   "id": "orange-worcester",
   "metadata": {},
   "source": [
    "# Part 3: Response to requests coming from Data Scientist"
   ]
  },
  {
   "cell_type": "code",
   "execution_count": null,
   "id": "liberal-label",
   "metadata": {
    "scrolled": true
   },
   "outputs": [],
   "source": [
    "duet.requests.add_handler(action=\"accept\")"
   ]
  },
  {
   "cell_type": "markdown",
   "id": "understood-chosen",
   "metadata": {},
   "source": [
    "### <img src=\"https://github.com/OpenMined/design-assets/raw/master/logos/OM/mark-primary-light.png\" alt=\"he-black-box\" width=\"100\"/> Checkpoint 1 : Well done!"
   ]
  }
 ],
 "metadata": {
  "kernelspec": {
   "display_name": "Python 3 (ipykernel)",
   "language": "python",
   "name": "python3"
  },
  "language_info": {
   "codemirror_mode": {
    "name": "ipython",
    "version": 3
   },
   "file_extension": ".py",
   "mimetype": "text/x-python",
   "name": "python",
   "nbconvert_exporter": "python",
   "pygments_lexer": "ipython3",
   "version": "3.9.1"
  }
 },
 "nbformat": 4,
 "nbformat_minor": 5
}
