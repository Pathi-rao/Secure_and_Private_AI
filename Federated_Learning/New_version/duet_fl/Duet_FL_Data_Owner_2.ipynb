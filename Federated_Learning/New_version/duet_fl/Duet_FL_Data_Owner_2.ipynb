{
 "cells": [
  {
   "cell_type": "markdown",
   "id": "dependent-pharmacy",
   "metadata": {},
   "source": [
    "# Part 1: Launch a Duet Server and upload data"
   ]
  },
  {
   "cell_type": "code",
   "execution_count": 1,
   "id": "dirty-subject",
   "metadata": {
    "ExecuteTime": {
     "end_time": "2021-08-01T10:32:54.152175Z",
     "start_time": "2021-08-01T10:32:38.340531Z"
    },
    "scrolled": true
   },
   "outputs": [
    {
     "name": "stdout",
     "output_type": "stream",
     "text": [
      "🎤  🎸  ♪♪♪ Starting Duet ♫♫♫  🎻  🎹\n",
      "\n",
      "♫♫♫ >\u001b[93m DISCLAIMER\u001b[0m: \u001b[1mDuet is an experimental feature currently in beta.\n",
      "♫♫♫ > Use at your own risk.\n",
      "\u001b[0m\n",
      "\u001b[1m\n",
      "    > ❤️ \u001b[91mLove\u001b[0m \u001b[92mDuet\u001b[0m? \u001b[93mPlease\u001b[0m \u001b[94mconsider\u001b[0m \u001b[95msupporting\u001b[0m \u001b[91mour\u001b[0m \u001b[93mcommunity!\u001b[0m\n",
      "    > https://github.com/sponsors/OpenMined\u001b[1m\n",
      "\n",
      "♫♫♫ > Punching through firewall to OpenGrid Network Node at:\n",
      "♫♫♫ > http://ec2-18-218-7-180.us-east-2.compute.amazonaws.com:5000\n",
      "♫♫♫ >\n",
      "♫♫♫ > ...waiting for response from OpenGrid Network... \n",
      "♫♫♫ > \u001b[92mDONE!\u001b[0m\n",
      "\n",
      "♫♫♫ > \u001b[95mSTEP 1:\u001b[0m Send the following code to your Duet Partner!\n",
      "\n",
      "import syft as sy\n",
      "duet = sy.join_duet(loopback=True)\n",
      "\n",
      "♫♫♫ > Connecting...\n",
      "\n",
      "♫♫♫ > \u001b[92mCONNECTED!\u001b[0m\n",
      "\n",
      "`searchable` is deprecated please use `pointable` in futurees: 0  Request Handlers: 0                                \n",
      "♫♫♫ > DUET LIVE STATUS  -  Objects: 4  Requests: 0   Messages: 224  Request Handlers: 1                                \r"
     ]
    }
   ],
   "source": [
    "import syft as sy\n",
    "duet = sy.duet(loopback=True)"
   ]
  },
  {
   "cell_type": "code",
   "execution_count": 2,
   "id": "different-setup",
   "metadata": {
    "ExecuteTime": {
     "end_time": "2021-08-01T10:33:10.741882Z",
     "start_time": "2021-08-01T10:33:10.726811Z"
    }
   },
   "outputs": [],
   "source": [
    "import torch as th\n",
    "import numpy as np"
   ]
  },
  {
   "cell_type": "code",
   "execution_count": 3,
   "id": "continent-sixth",
   "metadata": {
    "ExecuteTime": {
     "end_time": "2021-08-01T10:33:10.788562Z",
     "start_time": "2021-08-01T10:33:10.751027Z"
    }
   },
   "outputs": [],
   "source": [
    "data = th.FloatTensor(np.array([60, 65, 75, 85, 95]).reshape(-1, 1))\n",
    "\n",
    "data = data.tag(\"DO2 data\")\n",
    "data = data.describe(\"Dataset of 5 samples, 1 feature\")\n",
    "\n",
    "data_ptr = data.send(duet, searchable=True)"
   ]
  },
  {
   "cell_type": "code",
   "execution_count": 4,
   "id": "tropical-addition",
   "metadata": {
    "ExecuteTime": {
     "end_time": "2021-08-01T10:33:10.881607Z",
     "start_time": "2021-08-01T10:33:10.794547Z"
    }
   },
   "outputs": [
    {
     "data": {
      "text/html": [
       "<div>\n",
       "<style scoped>\n",
       "    .dataframe tbody tr th:only-of-type {\n",
       "        vertical-align: middle;\n",
       "    }\n",
       "\n",
       "    .dataframe tbody tr th {\n",
       "        vertical-align: top;\n",
       "    }\n",
       "\n",
       "    .dataframe thead th {\n",
       "        text-align: right;\n",
       "    }\n",
       "</style>\n",
       "<table border=\"1\" class=\"dataframe\">\n",
       "  <thead>\n",
       "    <tr style=\"text-align: right;\">\n",
       "      <th></th>\n",
       "      <th>ID</th>\n",
       "      <th>Tags</th>\n",
       "      <th>Description</th>\n",
       "      <th>object_type</th>\n",
       "    </tr>\n",
       "  </thead>\n",
       "  <tbody>\n",
       "    <tr>\n",
       "      <th>0</th>\n",
       "      <td>&lt;UID: e6acf34195bc4f32b96e623ded801bf7&gt;</td>\n",
       "      <td>[DO2 data]</td>\n",
       "      <td>Dataset of 5 samples, 1 feature</td>\n",
       "      <td>&lt;class 'torch.Tensor'&gt;</td>\n",
       "    </tr>\n",
       "  </tbody>\n",
       "</table>\n",
       "</div>"
      ],
      "text/plain": [
       "                                        ID        Tags  \\\n",
       "0  <UID: e6acf34195bc4f32b96e623ded801bf7>  [DO2 data]   \n",
       "\n",
       "                       Description             object_type  \n",
       "0  Dataset of 5 samples, 1 feature  <class 'torch.Tensor'>  "
      ]
     },
     "execution_count": 4,
     "metadata": {},
     "output_type": "execute_result"
    }
   ],
   "source": [
    "duet.store.pandas"
   ]
  },
  {
   "cell_type": "code",
   "execution_count": 5,
   "id": "nearby-usage",
   "metadata": {
    "ExecuteTime": {
     "end_time": "2021-08-01T10:33:10.913238Z",
     "start_time": "2021-08-01T10:33:10.896276Z"
    }
   },
   "outputs": [
    {
     "data": {
      "text/plain": [
       "tensor([[60.],\n",
       "        [65.],\n",
       "        [75.],\n",
       "        [85.],\n",
       "        [95.]])"
      ]
     },
     "execution_count": 5,
     "metadata": {},
     "output_type": "execute_result"
    }
   ],
   "source": [
    "data"
   ]
  },
  {
   "cell_type": "code",
   "execution_count": 6,
   "id": "under-revolution",
   "metadata": {
    "ExecuteTime": {
     "end_time": "2021-08-01T10:33:10.945146Z",
     "start_time": "2021-08-01T10:33:10.919221Z"
    }
   },
   "outputs": [
    {
     "name": "stderr",
     "output_type": "stream",
     "text": [
      "[2021-08-01T12:35:20.383944+0200][CRITICAL][logger]][13724] > HANDLER Request <UID: 64c7f44c67964fcb92a14b7fb5b56a8e>: To evaluate training progress\n",
      "Value: <Storable: 4037.137939453125>\n",
      "[2021-08-01T12:35:21.541457+0200][CRITICAL][logger]][13724] > HANDLER Request <UID: 5ee447a5bbc04ee7865d3872c4be9fb6>: To evaluate training progress\n",
      "Value: <Storable: 3106.560546875>\n",
      "[2021-08-01T12:35:22.671470+0200][CRITICAL][logger]][13724] > HANDLER Request <UID: 77e9c10b4d6f4cef96b7717c2979e918>: To evaluate training progress\n",
      "Value: <Storable: 2301.989501953125>\n",
      "[2021-08-01T12:35:23.826211+0200][CRITICAL][logger]][13724] > HANDLER Request <UID: 9d37db835e544af0a41101e7fa7e7cec>: To evaluate training progress\n",
      "Value: <Storable: 1624.5501708984375>\n",
      "[2021-08-01T12:35:24.955643+0200][CRITICAL][logger]][13724] > HANDLER Request <UID: 0374df9b122d4d07b7c0cdc07bbbfcb9>: To evaluate training progress\n",
      "Value: <Storable: 1073.6298828125>\n",
      "[2021-08-01T12:35:26.112762+0200][CRITICAL][logger]][13724] > HANDLER Request <UID: 7448cf17af1c4ecbb57582f0b9643279>: To evaluate training progress\n",
      "Value: <Storable: 646.3277587890625>\n",
      "[2021-08-01T12:35:27.251760+0200][CRITICAL][logger]][13724] > HANDLER Request <UID: ed6b3e6ff1304a58bccd5f8827e41fb8>: To evaluate training progress\n",
      "Value: <Storable: 336.84844970703125>\n",
      "[2021-08-01T12:35:28.398093+0200][CRITICAL][logger]][13724] > HANDLER Request <UID: 5cb07098f5d8489784fafff0fbb27b83>: To evaluate training progress\n",
      "Value: <Storable: 135.93789672851562>\n",
      "[2021-08-01T12:35:29.546359+0200][CRITICAL][logger]][13724] > HANDLER Request <UID: 438980d479cf49498f7c1fc8751e4fc8>: To evaluate training progress\n",
      "Value: <Storable: 30.522693634033203>\n",
      "[2021-08-01T12:35:30.665848+0200][CRITICAL][logger]][13724] > HANDLER Request <UID: 866b0acdfc974358a3d768ba193c1e61>: To evaluate training progress\n",
      "Value: <Storable: 3.782020092010498>\n",
      "[2021-08-01T12:36:04.253509+0200][CRITICAL][logger]][13724] > HANDLER Request <UID: 5dce973984d644f9897712eb173121ad>:\n",
      "Value: <Storable: [Parameter containing:tensor([[0.6740]], requires_grad=True), Parameter containing:tensor([1.6455], requires_grad=True)]>\n",
      "[2021-08-01T12:38:02.225977+0200][CRITICAL][logger]][13724] > HANDLER Request <UID: a4599c64a0a145c18fdd27b74bdae4d3>:\n",
      "Value: <Storable: 'in_features=1, out_features=1, bias=True'>\n",
      "[2021-08-01T12:38:02.382578+0200][CRITICAL][logger]][13724] > HANDLER Request <UID: 674656c97ae9444dbd26434520e67965>:\n",
      "Value: <Storable: OrderedDict([('weight', tensor([[0.6740]])), ('bias', tensor([1.6455]))])>\n"
     ]
    }
   ],
   "source": [
    "duet.requests.add_handler(\n",
    "    action=\"accept\",\n",
    "    print_local=True,  # print the result in your notebook\n",
    ")"
   ]
  },
  {
   "cell_type": "code",
   "execution_count": null,
   "id": "every-banana",
   "metadata": {},
   "outputs": [],
   "source": []
  }
 ],
 "metadata": {
  "kernelspec": {
   "display_name": "Python 3 (ipykernel)",
   "language": "python",
   "name": "python3"
  },
  "language_info": {
   "codemirror_mode": {
    "name": "ipython",
    "version": 3
   },
   "file_extension": ".py",
   "mimetype": "text/x-python",
   "name": "python",
   "nbconvert_exporter": "python",
   "pygments_lexer": "ipython3",
   "version": "3.9.1"
  }
 },
 "nbformat": 4,
 "nbformat_minor": 5
}
