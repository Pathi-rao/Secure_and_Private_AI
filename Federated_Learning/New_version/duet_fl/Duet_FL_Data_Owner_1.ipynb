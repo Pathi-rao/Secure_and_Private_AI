{
 "cells": [
  {
   "cell_type": "markdown",
   "id": "continent-climb",
   "metadata": {},
   "source": [
    "# Part 1: Launch a Duet Server and upload data"
   ]
  },
  {
   "cell_type": "code",
   "execution_count": 1,
   "id": "parental-classics",
   "metadata": {
    "ExecuteTime": {
     "end_time": "2021-08-01T10:32:31.922686Z",
     "start_time": "2021-08-01T10:32:15.226651Z"
    }
   },
   "outputs": [
    {
     "name": "stdout",
     "output_type": "stream",
     "text": [
      "🎤  🎸  ♪♪♪ Starting Duet ♫♫♫  🎻  🎹\n",
      "\n",
      "♫♫♫ >\u001b[93m DISCLAIMER\u001b[0m: \u001b[1mDuet is an experimental feature currently in beta.\n",
      "♫♫♫ > Use at your own risk.\n",
      "\u001b[0m\n",
      "\u001b[1m\n",
      "    > ❤️ \u001b[91mLove\u001b[0m \u001b[92mDuet\u001b[0m? \u001b[93mPlease\u001b[0m \u001b[94mconsider\u001b[0m \u001b[95msupporting\u001b[0m \u001b[91mour\u001b[0m \u001b[93mcommunity!\u001b[0m\n",
      "    > https://github.com/sponsors/OpenMined\u001b[1m\n",
      "\n",
      "♫♫♫ > Punching through firewall to OpenGrid Network Node at:\n",
      "♫♫♫ > http://ec2-18-218-7-180.us-east-2.compute.amazonaws.com:5000\n",
      "♫♫♫ >\n",
      "♫♫♫ > ...waiting for response from OpenGrid Network... \n",
      "♫♫♫ > \u001b[92mDONE!\u001b[0m\n",
      "\n",
      "♫♫♫ > \u001b[95mSTEP 1:\u001b[0m Send the following code to your Duet Partner!\n",
      "\n",
      "import syft as sy\n",
      "duet = sy.join_duet(loopback=True)\n",
      "\n",
      "♫♫♫ > Connecting...\n",
      "\n",
      "♫♫♫ > \u001b[92mCONNECTED!\u001b[0m\n",
      "\n",
      "♫♫♫ > DUET LIVE STATUS  *  Objects: 4  Requests: 0   Messages: 224  Request Handlers: 1                                \r"
     ]
    }
   ],
   "source": [
    "import syft as sy\n",
    "duet = sy.launch_duet(loopback=True)"
   ]
  },
  {
   "cell_type": "code",
   "execution_count": 2,
   "id": "dying-switch",
   "metadata": {
    "ExecuteTime": {
     "end_time": "2021-08-01T10:33:01.119309Z",
     "start_time": "2021-08-01T10:33:01.104977Z"
    }
   },
   "outputs": [],
   "source": [
    "import torch as th\n",
    "import numpy as np"
   ]
  },
  {
   "cell_type": "code",
   "execution_count": 3,
   "id": "focused-error",
   "metadata": {
    "ExecuteTime": {
     "end_time": "2021-08-01T10:33:01.179486Z",
     "start_time": "2021-08-01T10:33:01.128436Z"
    }
   },
   "outputs": [
    {
     "name": "stdout",
     "output_type": "stream",
     "text": [
      "`searchable` is deprecated please use `pointable` in future\n"
     ]
    }
   ],
   "source": [
    "data = th.FloatTensor(np.array([5, 15, 25, 35, 45, 55]).reshape(-1, 1))\n",
    "\n",
    "data = data.tag(\"DO1 data\")\n",
    "data = data.describe(\"Dataset of 6 samples, 1 feature\")\n",
    "\n",
    "data_ptr = data.send(duet, searchable=True)"
   ]
  },
  {
   "cell_type": "code",
   "execution_count": 4,
   "id": "circular-commodity",
   "metadata": {
    "ExecuteTime": {
     "end_time": "2021-08-01T10:33:01.273230Z",
     "start_time": "2021-08-01T10:33:01.187466Z"
    }
   },
   "outputs": [
    {
     "data": {
      "text/html": [
       "<div>\n",
       "<style scoped>\n",
       "    .dataframe tbody tr th:only-of-type {\n",
       "        vertical-align: middle;\n",
       "    }\n",
       "\n",
       "    .dataframe tbody tr th {\n",
       "        vertical-align: top;\n",
       "    }\n",
       "\n",
       "    .dataframe thead th {\n",
       "        text-align: right;\n",
       "    }\n",
       "</style>\n",
       "<table border=\"1\" class=\"dataframe\">\n",
       "  <thead>\n",
       "    <tr style=\"text-align: right;\">\n",
       "      <th></th>\n",
       "      <th>ID</th>\n",
       "      <th>Tags</th>\n",
       "      <th>Description</th>\n",
       "      <th>object_type</th>\n",
       "    </tr>\n",
       "  </thead>\n",
       "  <tbody>\n",
       "    <tr>\n",
       "      <th>0</th>\n",
       "      <td>&lt;UID: f28c564a95cc4be79aa43ca5d18d1219&gt;</td>\n",
       "      <td>[DO1 data]</td>\n",
       "      <td>Dataset of 6 samples, 1 feature</td>\n",
       "      <td>&lt;class 'torch.Tensor'&gt;</td>\n",
       "    </tr>\n",
       "  </tbody>\n",
       "</table>\n",
       "</div>"
      ],
      "text/plain": [
       "                                        ID        Tags  \\\n",
       "0  <UID: f28c564a95cc4be79aa43ca5d18d1219>  [DO1 data]   \n",
       "\n",
       "                       Description             object_type  \n",
       "0  Dataset of 6 samples, 1 feature  <class 'torch.Tensor'>  "
      ]
     },
     "execution_count": 4,
     "metadata": {},
     "output_type": "execute_result"
    }
   ],
   "source": [
    "duet.store.pandas"
   ]
  },
  {
   "cell_type": "code",
   "execution_count": 5,
   "id": "undefined-keeping",
   "metadata": {
    "ExecuteTime": {
     "end_time": "2021-08-01T10:33:01.320105Z",
     "start_time": "2021-08-01T10:33:01.286195Z"
    }
   },
   "outputs": [
    {
     "data": {
      "text/plain": [
       "tensor([[ 5.],\n",
       "        [15.],\n",
       "        [25.],\n",
       "        [35.],\n",
       "        [45.],\n",
       "        [55.]])"
      ]
     },
     "execution_count": 5,
     "metadata": {},
     "output_type": "execute_result"
    }
   ],
   "source": [
    "data"
   ]
  },
  {
   "cell_type": "code",
   "execution_count": 6,
   "id": "thousand-borough",
   "metadata": {
    "ExecuteTime": {
     "end_time": "2021-08-01T10:33:01.352019Z",
     "start_time": "2021-08-01T10:33:01.328162Z"
    }
   },
   "outputs": [
    {
     "name": "stderr",
     "output_type": "stream",
     "text": [
      "[2021-08-01T12:33:56.401264+0200][CRITICAL][logger]][13712] > HANDLER Request <UID: 13c33982829f48d0bf6ead366e814594>: To evaluate training progress\n",
      "Value: <Storable: 881.3590698242188>\n",
      "[2021-08-01T12:33:57.572944+0200][CRITICAL][logger]][13712] > HANDLER Request <UID: f05614a24f174301ad36a85e6077a64e>: To evaluate training progress\n",
      "Value: <Storable: 683.983154296875>\n",
      "[2021-08-01T12:33:58.711336+0200][CRITICAL][logger]][13712] > HANDLER Request <UID: 04b86cda15d64b4b952bad152ac72117>: To evaluate training progress\n",
      "Value: <Storable: 512.5094604492188>\n",
      "[2021-08-01T12:33:59.869924+0200][CRITICAL][logger]][13712] > HANDLER Request <UID: 83729d3ba21746d3b5c8cabb4447562e>: To evaluate training progress\n",
      "Value: <Storable: 367.18212890625>\n",
      "[2021-08-01T12:34:01.020048+0200][CRITICAL][logger]][13712] > HANDLER Request <UID: a5ed25f3d6e2411fae837f7f8fb301f5>: To evaluate training progress\n",
      "Value: <Storable: 247.9085235595703>\n",
      "[2021-08-01T12:34:02.162495+0200][CRITICAL][logger]][13712] > HANDLER Request <UID: 641c56ab2bf948fdb31d4dd32fe9dd38>: To evaluate training progress\n",
      "Value: <Storable: 154.1551971435547>\n",
      "[2021-08-01T12:34:03.293173+0200][CRITICAL][logger]][13712] > HANDLER Request <UID: e22b24acc5984b31a425f38990162aa4>: To evaluate training progress\n",
      "Value: <Storable: 84.83381652832031>\n",
      "[2021-08-01T12:34:04.435152+0200][CRITICAL][logger]][13712] > HANDLER Request <UID: 5ea3971609ad42338b7d3b1c637f2465>: To evaluate training progress\n",
      "Value: <Storable: 38.19247817993164>\n",
      "[2021-08-01T12:34:05.586902+0200][CRITICAL][logger]][13712] > HANDLER Request <UID: 68c6d112c5db47228bfa33cd7cc5ef97>: To evaluate training progress\n",
      "Value: <Storable: 11.740914344787598>\n",
      "[2021-08-01T12:34:06.705383+0200][CRITICAL][logger]][13712] > HANDLER Request <UID: c7ee2b182be04a2fa4f8d1decfe96059>: To evaluate training progress\n",
      "Value: <Storable: 2.2487456798553467>\n",
      "[2021-08-01T12:36:03.113599+0200][CRITICAL][logger]][13712] > HANDLER Request <UID: d78c56ee384a43108621075dd5c64925>:\n",
      "Value: <Storable: [Parameter containing:tensor([[0.6804]], requires_grad=True), Parameter containing:tensor([1.6496], requires_grad=True)]>\n",
      "[2021-08-01T12:37:45.040831+0200][CRITICAL][logger]][13712] > HANDLER Request <UID: 67f7b3d410ad4c208f879f911d7ffeeb>:\n",
      "Value: <Storable: 'in_features=1, out_features=1, bias=True'>\n",
      "[2021-08-01T12:37:45.207475+0200][CRITICAL][logger]][13712] > HANDLER Request <UID: 5123db2c544b47f38820fd24261bec09>:\n",
      "Value: <Storable: OrderedDict([('weight', tensor([[0.6804]])), ('bias', tensor([1.6496]))])>\n"
     ]
    }
   ],
   "source": [
    "duet.requests.add_handler(\n",
    "    action=\"accept\",\n",
    "    print_local=True,  # print the result in your notebook\n",
    ")"
   ]
  },
  {
   "cell_type": "code",
   "execution_count": null,
   "id": "assigned-tomato",
   "metadata": {},
   "outputs": [],
   "source": []
  }
 ],
 "metadata": {
  "kernelspec": {
   "display_name": "Python 3 (ipykernel)",
   "language": "python",
   "name": "python3"
  },
  "language_info": {
   "codemirror_mode": {
    "name": "ipython",
    "version": 3
   },
   "file_extension": ".py",
   "mimetype": "text/x-python",
   "name": "python",
   "nbconvert_exporter": "python",
   "pygments_lexer": "ipython3",
   "version": "3.9.1"
  }
 },
 "nbformat": 4,
 "nbformat_minor": 5
}
